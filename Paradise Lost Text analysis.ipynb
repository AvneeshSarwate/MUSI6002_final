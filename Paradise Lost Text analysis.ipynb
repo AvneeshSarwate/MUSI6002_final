{
 "cells": [
  {
   "cell_type": "code",
   "execution_count": 2,
   "metadata": {},
   "outputs": [],
   "source": [
    "import string\n",
    "from nltk.sentiment.vader import SentimentIntensityAnalyzer\n",
    "\n",
    "paradiseLostFull = open('paradiseLost.txt').read().replace('\\r', \"\").split('\\n')\n",
    "\n",
    "def isTextLine(line):\n",
    "    return len([s for s in line if s in string.ascii_lowercase]) > 0\n",
    "\n",
    "pdCleanedLines = [line for line in paradiseLostFull if isTextLine(line)]\n",
    "\n",
    "vader = SentimentIntensityAnalyzer()\n",
    "\n",
    "sentiments = map(lambda line: vader.polarity_scores(line)['compound'], pdCleanedLines)"
   ]
  },
  {
   "cell_type": "code",
   "execution_count": 6,
   "metadata": {},
   "outputs": [
    {
     "data": {
      "text/plain": [
       "5406"
      ]
     },
     "execution_count": 6,
     "metadata": {},
     "output_type": "execute_result"
    }
   ],
   "source": [
    "len([s for s in sentiments if s == 0])"
   ]
  }
 ],
 "metadata": {
  "kernelspec": {
   "display_name": "Python 2",
   "language": "python",
   "name": "python2"
  },
  "language_info": {
   "codemirror_mode": {
    "name": "ipython",
    "version": 2
   },
   "file_extension": ".py",
   "mimetype": "text/x-python",
   "name": "python",
   "nbconvert_exporter": "python",
   "pygments_lexer": "ipython2",
   "version": "2.7.13"
  }
 },
 "nbformat": 4,
 "nbformat_minor": 2
}
